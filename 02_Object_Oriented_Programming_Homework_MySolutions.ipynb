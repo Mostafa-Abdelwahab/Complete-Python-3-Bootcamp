{
  "cells": [
    {
      "cell_type": "markdown",
      "metadata": {
        "id": "view-in-github",
        "colab_type": "text"
      },
      "source": [
        "<a href=\"https://colab.research.google.com/github/Mostafa-Abdelwahab/Complete-Python-3-Bootcamp/blob/MyAssesmentUpdates/02_Object_Oriented_Programming_Homework_MySolutions.ipynb\" target=\"_parent\"><img src=\"https://colab.research.google.com/assets/colab-badge.svg\" alt=\"Open In Colab\"/></a>"
      ]
    },
    {
      "cell_type": "markdown",
      "metadata": {
        "id": "pzCbMCNYbWjC"
      },
      "source": [
        "___\n",
        "\n",
        "<a href='https://www.udemy.com/user/joseportilla/'><img src='../Pierian_Data_Logo.png'/></a>\n",
        "___\n",
        "<center><em>Content Copyright by Pierian Data</em></center>"
      ]
    },
    {
      "cell_type": "markdown",
      "metadata": {
        "id": "v2MTskfAbWjI"
      },
      "source": [
        "# Object Oriented Programming\n",
        "## Homework Assignment\n",
        "\n",
        "#### Problem 1\n",
        "Fill in the Line class methods to accept coordinates as a pair of tuples and return the slope and distance of the line."
      ]
    },
    {
      "cell_type": "code",
      "execution_count": 1,
      "metadata": {
        "collapsed": true,
        "id": "xwMqaIhebWjJ"
      },
      "outputs": [],
      "source": [
        "class Line:\n",
        "    \n",
        "    def __init__(self,coor1,coor2):\n",
        "        self.coor1=coor1\n",
        "        self.coor2=coor2\n",
        "    def distance(self):\n",
        "        x1,y1 = self.coor1\n",
        "        x2,y2 = self.coor2\n",
        "        return ((x2-x1)**2 + (y2-y1)**2)**0.5\n",
        "    def slope(self):\n",
        "        x1,y1 = self.coor1\n",
        "        x2,y2 = self.coor2\n",
        "        return (y2-y1)/(x2-x1)"
      ]
    },
    {
      "cell_type": "code",
      "execution_count": 2,
      "metadata": {
        "collapsed": true,
        "id": "ZnDnE3bYbWjM"
      },
      "outputs": [],
      "source": [
        "# EXAMPLE OUTPUT\n",
        "\n",
        "coordinate1 = (3,2)\n",
        "coordinate2 = (8,10)\n",
        "\n",
        "li = Line(coordinate1,coordinate2)"
      ]
    },
    {
      "cell_type": "code",
      "execution_count": 3,
      "metadata": {
        "colab": {
          "base_uri": "https://localhost:8080/"
        },
        "id": "SYkbwmVKbWjN",
        "outputId": "61d8be6f-9b4b-45a0-ee6e-b2e783d9f504"
      },
      "outputs": [
        {
          "output_type": "execute_result",
          "data": {
            "text/plain": [
              "9.433981132056603"
            ]
          },
          "metadata": {},
          "execution_count": 3
        }
      ],
      "source": [
        "li.distance()"
      ]
    },
    {
      "cell_type": "code",
      "execution_count": 4,
      "metadata": {
        "colab": {
          "base_uri": "https://localhost:8080/"
        },
        "id": "xiJrMo9TbWjP",
        "outputId": "11adeb66-c162-4976-c59f-84a495b14094"
      },
      "outputs": [
        {
          "output_type": "execute_result",
          "data": {
            "text/plain": [
              "1.6"
            ]
          },
          "metadata": {},
          "execution_count": 4
        }
      ],
      "source": [
        "li.slope()"
      ]
    },
    {
      "cell_type": "markdown",
      "metadata": {
        "id": "AemnCSYtbWjP"
      },
      "source": [
        "________\n",
        "#### Problem 2"
      ]
    },
    {
      "cell_type": "markdown",
      "metadata": {
        "id": "SWrPs4L3bWjQ"
      },
      "source": [
        "Fill in the class "
      ]
    },
    {
      "cell_type": "code",
      "execution_count": 5,
      "metadata": {
        "collapsed": true,
        "id": "VRo6SQVzbWjR"
      },
      "outputs": [],
      "source": [
        "class Cylinder:\n",
        "    \n",
        "    def __init__(self,height=1,radius=1):\n",
        "        self.height=height\n",
        "        self.radius=radius\n",
        "    def volume(self):\n",
        "        return self.height*3.14*(self.radius)**2\n",
        "    \n",
        "    def surface_area(self):\n",
        "        return 2*3.14*self.radius*self.height+2*3.14*self.radius**2"
      ]
    },
    {
      "cell_type": "code",
      "execution_count": 6,
      "metadata": {
        "collapsed": true,
        "id": "6fU8OsHFbWjS"
      },
      "outputs": [],
      "source": [
        "# EXAMPLE OUTPUT\n",
        "c = Cylinder(2,3)"
      ]
    },
    {
      "cell_type": "code",
      "execution_count": 7,
      "metadata": {
        "colab": {
          "base_uri": "https://localhost:8080/"
        },
        "id": "sCAU0GalbWjT",
        "outputId": "8a862edd-3f29-4cee-cf30-6255f0468202"
      },
      "outputs": [
        {
          "output_type": "execute_result",
          "data": {
            "text/plain": [
              "56.52"
            ]
          },
          "metadata": {},
          "execution_count": 7
        }
      ],
      "source": [
        "c.volume()"
      ]
    },
    {
      "cell_type": "code",
      "execution_count": 8,
      "metadata": {
        "colab": {
          "base_uri": "https://localhost:8080/"
        },
        "id": "YD-_gzWYbWjU",
        "outputId": "fafcd14b-da19-40a7-dd04-9dd47dd92abf"
      },
      "outputs": [
        {
          "output_type": "execute_result",
          "data": {
            "text/plain": [
              "94.2"
            ]
          },
          "metadata": {},
          "execution_count": 8
        }
      ],
      "source": [
        "c.surface_area()"
      ]
    }
  ],
  "metadata": {
    "kernelspec": {
      "display_name": "Python 3",
      "language": "python",
      "name": "python3"
    },
    "language_info": {
      "codemirror_mode": {
        "name": "ipython",
        "version": 3
      },
      "file_extension": ".py",
      "mimetype": "text/x-python",
      "name": "python",
      "nbconvert_exporter": "python",
      "pygments_lexer": "ipython3",
      "version": "3.6.6"
    },
    "colab": {
      "name": "02-Object Oriented Programming Homework.ipynb",
      "provenance": [],
      "collapsed_sections": [],
      "include_colab_link": true
    }
  },
  "nbformat": 4,
  "nbformat_minor": 0
}