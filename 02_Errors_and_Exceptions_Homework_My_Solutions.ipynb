{
  "cells": [
    {
      "cell_type": "markdown",
      "metadata": {
        "id": "view-in-github",
        "colab_type": "text"
      },
      "source": [
        "<a href=\"https://colab.research.google.com/github/Mostafa-Abdelwahab/Complete-Python-3-Bootcamp/blob/MyAssesmentUpdates/02_Errors_and_Exceptions_Homework_My_Solutions.ipynb\" target=\"_parent\"><img src=\"https://colab.research.google.com/assets/colab-badge.svg\" alt=\"Open In Colab\"/></a>"
      ]
    },
    {
      "cell_type": "markdown",
      "metadata": {
        "id": "OPMxR3wPVlwu"
      },
      "source": [
        "___\n",
        "\n",
        "<a href='https://www.udemy.com/user/joseportilla/'><img src='../Pierian_Data_Logo.png'/></a>\n",
        "___\n",
        "<center><em>Content Copyright by Pierian Data</em></center>"
      ]
    },
    {
      "cell_type": "markdown",
      "metadata": {
        "id": "Omz4vj5aVlwz"
      },
      "source": [
        "# Errors and Exceptions Homework"
      ]
    },
    {
      "cell_type": "markdown",
      "metadata": {
        "id": "ovoh0GPwVlw0"
      },
      "source": [
        "### Problem 1\n",
        "Handle the exception thrown by the code below by using <code>try</code> and <code>except</code> blocks."
      ]
    },
    {
      "cell_type": "code",
      "execution_count": 1,
      "metadata": {
        "colab": {
          "base_uri": "https://localhost:8080/"
        },
        "id": "tctVtlYmVlw1",
        "outputId": "d8ceb981-eaee-4bd4-e9b3-ade4a27da555"
      },
      "outputs": [
        {
          "output_type": "stream",
          "name": "stdout",
          "text": [
            "an error occured\n",
            "an error occured\n",
            "an error occured\n"
          ]
        }
      ],
      "source": [
        "for i in ['a','b','c']:\n",
        "  try:\n",
        "    print(i**2)\n",
        "  except:\n",
        "    print(\"an error occured\")"
      ]
    },
    {
      "cell_type": "markdown",
      "metadata": {
        "id": "OwdblU0bVlw5"
      },
      "source": [
        "### Problem 2\n",
        "Handle the exception thrown by the code below by using <code>try</code> and <code>except</code> blocks. Then use a <code>finally</code> block to print 'All Done.'"
      ]
    },
    {
      "cell_type": "code",
      "execution_count": 2,
      "metadata": {
        "colab": {
          "base_uri": "https://localhost:8080/"
        },
        "id": "-mDumVCDVlw7",
        "outputId": "873777f0-763b-47b9-e0f9-ac35bfd31b5f"
      },
      "outputs": [
        {
          "output_type": "stream",
          "name": "stdout",
          "text": [
            "you cant divide by zero\n",
            "all done\n"
          ]
        }
      ],
      "source": [
        "x = 5\n",
        "y = 0\n",
        "try:\n",
        "  z = x/y\n",
        "except ZeroDivisionError:\n",
        "  print(\"you cant divide by zero\")\n",
        "finally:\n",
        "  print(\"all done\")"
      ]
    },
    {
      "cell_type": "markdown",
      "metadata": {
        "id": "l3Y5NclhVlw8"
      },
      "source": [
        "### Problem 3\n",
        "Write a function that asks for an integer and prints the square of it. Use a <code>while</code> loop with a <code>try</code>, <code>except</code>, <code>else</code> block to account for incorrect inputs."
      ]
    },
    {
      "cell_type": "code",
      "execution_count": 3,
      "metadata": {
        "collapsed": true,
        "id": "eflBh4jzVlw-"
      },
      "outputs": [],
      "source": [
        "def ask():\n",
        "  while True:\n",
        "    try:\n",
        "      a=int(input('Enter a number '))\n",
        "      print(f\"Thank you, your number squared is: {a**2}\")\n",
        "      break\n",
        "    except:\n",
        "      print(\"An error occurred! Please try again!\")\n"
      ]
    },
    {
      "cell_type": "code",
      "execution_count": 4,
      "metadata": {
        "colab": {
          "base_uri": "https://localhost:8080/"
        },
        "id": "R4wRRGddVlw_",
        "outputId": "c6536f3b-d17f-430f-f62e-dbaa528d6de9"
      },
      "outputs": [
        {
          "output_type": "stream",
          "name": "stdout",
          "text": [
            "Enter a number null\n",
            "An error occurred! Please try again!\n",
            "Enter a number 4\n",
            "Thank you, your number squared is: 16\n"
          ]
        }
      ],
      "source": [
        "ask()"
      ]
    },
    {
      "cell_type": "markdown",
      "metadata": {
        "id": "FY2SJniwVlxA"
      },
      "source": [
        "# Great Job!"
      ]
    }
  ],
  "metadata": {
    "kernelspec": {
      "display_name": "Python 3",
      "language": "python",
      "name": "python3"
    },
    "language_info": {
      "codemirror_mode": {
        "name": "ipython",
        "version": 3
      },
      "file_extension": ".py",
      "mimetype": "text/x-python",
      "name": "python",
      "nbconvert_exporter": "python",
      "pygments_lexer": "ipython3",
      "version": "3.6.6"
    },
    "colab": {
      "name": "02-Errors and Exceptions Homework.ipynb",
      "provenance": [],
      "include_colab_link": true
    }
  },
  "nbformat": 4,
  "nbformat_minor": 0
}